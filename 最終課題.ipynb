{
  "cells": [
    {
      "cell_type": "markdown",
      "metadata": {
        "id": "view-in-github",
        "colab_type": "text"
      },
      "source": [
        "<a href=\"https://colab.research.google.com/github/yutoshima/kobe-subway-prediction/blob/main/%E6%9C%80%E7%B5%82%E8%AA%B2%E9%A1%8C.ipynb\" target=\"_parent\"><img src=\"https://colab.research.google.com/assets/colab-badge.svg\" alt=\"Open In Colab\"/></a>"
      ]
    },
    {
      "cell_type": "code",
      "source": [
        "import pandas as pd\n",
        "import numpy as np\n",
        "from sklearn.linear_model import LinearRegression\n",
        "\n",
        "# CSVファイルのURL\n",
        "url = \"https://www.city.kobe.lg.jp/documents/33478/subwaydata.csv\"\n",
        "\n",
        "# CSVファイルを読み込み\n",
        "df = pd.read_csv(url, encoding='shift_jis')\n",
        "\n",
        "# 不要な列を削除\n",
        "df = df.iloc[:, :7]\n",
        "\n",
        "# 欠損値を削除\n",
        "df = df.dropna()\n",
        "\n",
        "# 日付列をdatetime型に変換\n",
        "df['日付'] = pd.to_datetime(df['日付'])\n",
        "\n",
        "# 曜日、駅をカテゴリカル変数に変換\n",
        "df['曜日'] = df['曜日'].astype('category')\n",
        "df['駅'] = df['駅'].astype('category')\n",
        "\n",
        "# カテゴリカル変数をダミー変数に変換\n",
        "df = pd.get_dummies(df, columns=['曜日', '駅'])\n",
        "\n",
        "# 説明変数と目的変数を定義\n",
        "X = df.drop([\"日付\", \"定期（通勤）\", \"定期（通学）\", \"IC大人\", \"IC小児\"], axis=1)\n",
        "y = df[\"定期（通勤）\"] + df[\"定期（通学）\"] + df[\"IC大人\"] + df[\"IC小児\"]\n",
        "\n",
        "# モデルの定義と学習\n",
        "model = LinearRegression()\n",
        "model.fit(X, y)\n",
        "\n",
        "# 学習結果の表示\n",
        "print(\"Coefficients:\", model.coef_)\n",
        "print(\"Intercept:\", model.intercept_)\n",
        "\n",
        "# 予測用データの定義\n",
        "X_new = pd.DataFrame({\"日付\": [\"2024-01-08\"], \"曜日\": [\"月\"], \"駅\": [\"三宮\"]})\n",
        "\n",
        "# 予測用データを整形\n",
        "X_new['日付'] = pd.to_datetime(X_new['日付'])\n",
        "X_new['曜日'] = X_new['曜日'].astype('category')\n",
        "X_new['駅'] = X_new['駅'].astype('category')\n",
        "X_new = pd.get_dummies(X_new, columns=['曜日', '駅'])\n",
        "\n",
        "# 学習に使用した説明変数の列名を取得\n",
        "columns = X.columns\n",
        "\n",
        "# 予測に使用する説明変数に適用\n",
        "X_new = X_new.reindex(columns=columns, fill_value=0)\n",
        "\n",
        "# 予測\n",
        "y_pred = model.predict(X_new)\n",
        "print(\"予想された乗車数:\", y_pred)\n"
      ],
      "metadata": {
        "colab": {
          "base_uri": "https://localhost:8080/"
        },
        "id": "HK55y8v2Bdo6",
        "outputId": "874ce9a7-3f98-4ab0-eb06-a15255aa56c5"
      },
      "execution_count": null,
      "outputs": [
        {
          "output_type": "stream",
          "name": "stdout",
          "text": [
            "Coefficients: [1.69798718e+17 1.69798718e+17 1.69798718e+17 1.69798718e+17\n",
            " 1.69798718e+17 1.69798718e+17 1.69798718e+17 1.69798718e+17\n",
            " 7.19733079e+16 7.19733079e+16]\n",
            "Intercept: -2.417720260445749e+17\n",
            "予想された乗車数: [30912.]\n"
          ]
        }
      ]
    }
  ],
  "metadata": {
    "colab": {
      "provenance": [],
      "authorship_tag": "ABX9TyN+g0mjEuqeWOKvaHwAkY+5",
      "include_colab_link": true
    },
    "kernelspec": {
      "display_name": "Python 3",
      "name": "python3"
    },
    "language_info": {
      "name": "python"
    }
  },
  "nbformat": 4,
  "nbformat_minor": 0
}